{
  "cells": [
    {
      "cell_type": "markdown",
      "metadata": {
        "id": "pYcAGJR0Ja16"
      },
      "source": [
        "LIST OF PROBLEMS ENCOUNTERED\n",
        "1. need to first only include rows in original xlsx file that were data from jan 2020 to apr 2021\n",
        "2. get rid of end rows where xlsx calculations are done (bc they don't come from from merging the dfs, they come from editing the output xlsx file)\n",
        "3. get rid of 1st col (Column1) bc it wasn't in initial df (first listings.csv) that was used to initialize result variable.\n",
        "4. convert the old df to csv with utf-8 formatting (bc the original xlsx can take utf-8 chars)\n"
      ]
    },
    {
      "cell_type": "markdown",
      "metadata": {
        "id": "PfNb_i4aYoMY"
      },
      "source": [
        "# Airbnb"
      ]
    },
    {
      "cell_type": "markdown",
      "metadata": {
        "id": "Vhz6WBFdYxba"
      },
      "source": [
        "1) Calculate changes in number of listings using datasets from January 2020 to Present(January 2021). Datasets obtained from http://insideairbnb.com/get-the-data.html"
      ]
    },
    {
      "cell_type": "code",
      "execution_count": null,
      "metadata": {
        "colab": {
          "base_uri": "https://localhost:8080/"
        },
        "id": "TCMnFPfpI1KI",
        "outputId": "c8ee8926-2ae1-4dcd-fc63-768b34e3ab3d"
      },
      "outputs": [
        {
          "name": "stdout",
          "output_type": "stream",
          "text": [
            "#Off:\n",
            "754\n",
            "#New:\n",
            "747\n",
            "#Total Change:\n",
            "-7\n",
            "(3249, 32)\n",
            "DONE!\n"
          ]
        }
      ],
      "source": [
        "import pandas as pd\n",
        "\n",
        "MAL = 0 #average number of listings per month over the past year\n",
        "\n",
        "def calculate_off_new(df, df2):\n",
        "  merged = df.merge(df2[['id', 'price']],\n",
        "                  on='id', \n",
        "                  how='left')\n",
        "\n",
        "  isNaN = merged.price_y != merged.price_y\n",
        "  isOff = merged[isNaN]\n",
        "  print('#Off:')\n",
        "  print(len(isOff.index))\n",
        "  print('#New:')\n",
        "  print(len(df2.index) + len(isOff.index) - len(df.index))\n",
        "  print('#Total Change:')\n",
        "  print(len(df2.index) - len(df.index))\n",
        "\n",
        "################################ COMPARE MAR-APR 2021\n",
        "df = pd.read_csv(\"inputs/apr2021_listings.csv\")\n",
        "df2 = pd.read_csv(\"inputs/may2021_listings.csv\")\n",
        "calculate_off_new(df, df2)\n",
        "\n",
        "######## WHEN STARTING ANEW, SET FIRST DF TO BE RESULT\n",
        "result = pd.read_csv(\"old df - AirbnbTO_2021.csv\", encoding='utf-8')\n",
        "# result = df\n",
        "\n",
        "# add monthly price changes\n",
        "result = result.merge(df2[['id', 'price']], on='id')\n",
        "print(result.shape)\n",
        "\n",
        "################################ COMPARE FEB-MAR 2020\n",
        "df = df2\n",
        "df2 = pd.read_csv(\"inputs/jun2021_listings.csv\")\n",
        "result = result.merge(df2[['id', 'price']], on='id')\n",
        "\n",
        "df = df2\n",
        "df2 = pd.read_csv(\"inputs/jul2021_listings.csv\")\n",
        "result = result.merge(df2[['id', 'price']], on='id')\n",
        "\n",
        "df = df2\n",
        "df2 = pd.read_csv(\"inputs/aug2021_listings.csv\")\n",
        "result = result.merge(df2[['id', 'price']], on='id')\n",
        "\n",
        "result.to_excel('outputs/04 - JAN-AUG_AirbnbTO.xlsx')\n",
        "print(\"DONE!\")"
      ]
    },
    {
      "cell_type": "code",
      "execution_count": null,
      "metadata": {
        "colab": {
          "base_uri": "https://localhost:8080/",
          "height": 455
        },
        "id": "3o5E3TBT_Tyw",
        "outputId": "05dec455-56f7-49ed-f8ee-0328e71a1b15"
      },
      "outputs": [],
      "source": [
        "import pandas as pd\n",
        "\n",
        "MAL = 0 #average number of listings per month over the past year\n",
        "\n",
        "def calculate_off_new(df, df2):\n",
        "  merged = df.merge(df2[['id', 'price']],\n",
        "                  on='id', \n",
        "                  how='left')\n",
        "\n",
        "  isNaN = merged.price_y != merged.price_y\n",
        "  isOff = merged[isNaN]\n",
        "  print('#Off:')\n",
        "  print(len(isOff.index))\n",
        "  print('#New:')\n",
        "  print(len(df2.index) + len(isOff.index) - len(df.index))\n",
        "  print('#Total Change:')\n",
        "  print(len(df2.index) - len(df.index))\n",
        "\n",
        "################################ COMPARE JAN-FEB 2020\n",
        "df = pd.read_csv(\"listings.csv\")\n",
        "print('-----------------> JAN-FEB 2020 changes in listings:')\n",
        "df2 = pd.read_csv(\"listings_feb.csv\")\n",
        "calculate_off_new(df, df2)\n",
        "# add monthly price changes\n",
        "result = df\n",
        "result = result.merge(df2[['id', 'price']], on='id')\n",
        "print(result.shape)\n",
        "MAL = len(df2.index) + len(df.index)\n",
        "\n",
        "################################ COMPARE FEB-MAR 2020\n",
        "df = pd.read_csv(\"listings_feb.csv\")\n",
        "print('-----------------> FEB-MAR 2020 changes in listings:')\n",
        "df2 = pd.read_csv(\"listings_mar.csv\")\n",
        "calculate_off_new(df, df2)\n",
        "# add monthly price changes\n",
        "result = result.merge(df2[['id', 'price']], on='id')\n",
        "print(result.shape)\n",
        "MAL = MAL + len(df2.index)\n",
        "\n",
        "################################ COMPARE MAR-APR 2020\n",
        "df = pd.read_csv(\"listings_mar.csv\")\n",
        "print('-----------------> MAR-APR 2020 changes in listings:')\n",
        "df2 = pd.read_csv(\"listings_apr.csv\")\n",
        "calculate_off_new(df, df2)\n",
        "# add monthly price changes\n",
        "result = result.merge(df2[['id', 'price']], on='id')\n",
        "print(result.shape)\n",
        "MAL = MAL + len(df2.index)\n",
        "\n",
        "################################ COMPARE APR-MAY 2020\n",
        "df = pd.read_csv(\"listings_apr.csv\")\n",
        "print('-----------------> APR-MAY 2020 changes in listings:')\n",
        "df2 = pd.read_csv(\"listings_may.csv\")\n",
        "calculate_off_new(df, df2)\n",
        "# add monthly price changes\n",
        "result = result.merge(df2[['id', 'price']], on='id')\n",
        "print(result.shape)\n",
        "MAL = MAL + len(df2.index)\n",
        "\n",
        "################################ COMPARE MAY-JUN 2020\n",
        "df = pd.read_csv(\"listings_may.csv\")\n",
        "print('-----------------> MAY-JUN 2020 changes in listings:')\n",
        "df2 = pd.read_csv(\"listings_jun.csv\")\n",
        "calculate_off_new(df, df2)\n",
        "# add monthly price changes\n",
        "result = result.merge(df2[['id', 'price']], on='id')\n",
        "print(result.shape)\n",
        "MAL = MAL + len(df2.index)\n",
        "\n",
        "################################ COMPARE JUN-JUL 2020\n",
        "df = pd.read_csv(\"listings_jun.csv\")\n",
        "print('-----------------> JUN-JUL 2020 changes in listings:')\n",
        "df2 = pd.read_csv(\"listings_jul.csv\")\n",
        "calculate_off_new(df, df2)\n",
        "# add monthly price changes\n",
        "result = result.merge(df2[['id', 'price']], on='id')\n",
        "print(result.shape)\n",
        "MAL = MAL + len(df2.index)\n",
        "\n",
        "################################ COMPARE JUL-AUG 2020\n",
        "df = pd.read_csv(\"listings_jul.csv\")\n",
        "print('-----------------> JUL-AUG 2020 changes in listings:')\n",
        "df2 = pd.read_csv(\"listings_aug.csv\")\n",
        "calculate_off_new(df, df2)\n",
        "# add monthly price changes\n",
        "result = result.merge(df2[['id', 'price']], on='id')\n",
        "print(result.shape)\n",
        "MAL = MAL + len(df2.index)\n",
        "\n",
        "################################ COMPARE AUG-SEP 2020\n",
        "df = pd.read_csv(\"listings_aug.csv\")\n",
        "print('-----------------> AUG-SEP 2020 changes in listings:')\n",
        "df2 = pd.read_csv(\"listings_sep.csv\")\n",
        "calculate_off_new(df, df2)\n",
        "# add monthly price changes\n",
        "result = result.merge(df2[['id', 'price']], on='id')\n",
        "print(result.shape)\n",
        "MAL = MAL + len(df2.index)\n",
        "\n",
        "################################ COMPARE SEP-OCT 2020\n",
        "df = pd.read_csv(\"listings_sep.csv\")\n",
        "print('-----------------> SEP-OCT 2020 changes in listings:')\n",
        "df2 = pd.read_csv(\"listings_oct.csv\")\n",
        "calculate_off_new(df, df2)\n",
        "# add monthly price changes\n",
        "result = result.merge(df2[['id', 'price']], on='id')\n",
        "print(result.shape)\n",
        "MAL = MAL + len(df2.index)\n",
        "\n",
        "################################ COMPARE OCT-NOV 2020\n",
        "df = pd.read_csv(\"listings_oct.csv\")\n",
        "print('-----------------> OCT-NOV 2020 changes in listings:')\n",
        "df2 = pd.read_csv(\"listings_nov.csv\")\n",
        "calculate_off_new(df, df2)\n",
        "# add monthly price changes\n",
        "result = result.merge(df2[['id', 'price']], on='id')\n",
        "print(result.shape)\n",
        "MAL = MAL + len(df2.index)\n",
        "\n",
        "################################ COMPARE NOV-DEC 2020\n",
        "df = pd.read_csv(\"listings_nov.csv\")\n",
        "print('-----------------> NOV-DEC 2020 changes in listings:')\n",
        "df2 = pd.read_csv(\"listings_dec.csv\")\n",
        "calculate_off_new(df, df2)\n",
        "# add monthly price changes\n",
        "result = result.merge(df2[['id', 'price']], on='id')\n",
        "print(result.shape)\n",
        "MAL = MAL + len(df2.index)\n",
        "\n",
        "################################ COMPARE DEC-JAN 2021\n",
        "df = pd.read_csv(\"listings_dec.csv\")\n",
        "print('-----------------> DEC-JAN 2021 changes in listings:')\n",
        "df2 = pd.read_csv(\"listings_jan.csv\")\n",
        "calculate_off_new(df, df2)\n",
        "# add monthly price changes\n",
        "result = result.merge(df2[['id', 'price']], on='id')\n",
        "print(result.shape)\n",
        "MAL = MAL + len(df2.index)\n",
        "\n",
        "################################ COMPARE JAN-FEB 2021\n",
        "df = pd.read_csv(\"listings_jan.csv\")\n",
        "print('-----------------> JAN-FEB 2021 changes in listings:')\n",
        "df2 = pd.read_csv(\"feb_2021.csv\")\n",
        "calculate_off_new(df, df2)\n",
        "# add monthly price changes\n",
        "result = result.merge(df2[['id', 'price']], on='id')\n",
        "print(result.shape)\n",
        "MAL = MAL + len(df2.index)\n",
        "\n",
        "################################ COMPARE FEB-MAR 2021\n",
        "df = pd.read_csv(\"feb_2021.csv\")\n",
        "print('-----------------> FEB-MAR 2021 changes in listings:')\n",
        "df2 = pd.read_csv(\"mar_2021.csv\")\n",
        "calculate_off_new(df, df2)\n",
        "# add monthly price changes\n",
        "result = result.merge(df2[['id', 'price']], on='id')\n",
        "print(result.shape)\n",
        "MAL = MAL + len(df2.index)\n",
        "\n",
        "################################ COMPARE MAR-APR 2021\n",
        "df = pd.read_csv(\"mar_2021.csv\")\n",
        "print('-----------------> FEB-MAR 2021 changes in listings:')\n",
        "df2 = pd.read_csv(\"apr_2021.csv\")\n",
        "calculate_off_new(df, df2)\n",
        "# add monthly price changes\n",
        "result = result.merge(df2[['id', 'price']], on='id')\n",
        "print(result.shape)\n",
        "MAL = MAL + len(df2.index)\n",
        "\n",
        "print('-----------------> BASELINE (average monthly active listings):')\n",
        "print(MAL/16)"
      ]
    },
    {
      "cell_type": "code",
      "execution_count": null,
      "metadata": {
        "id": "gJg0wtwYTZZd"
      },
      "outputs": [],
      "source": [
        "result.to_excel('AirbnbTO.xlsx')"
      ]
    },
    {
      "cell_type": "markdown",
      "metadata": {
        "id": "peP1T-nFZM10"
      },
      "source": [
        "2) Calculate average prices and average number of listings by room type and by neighbourhood."
      ]
    },
    {
      "cell_type": "code",
      "execution_count": null,
      "metadata": {
        "id": "mQitDmEaNsGx"
      },
      "outputs": [],
      "source": [
        "#calculate average price by neighbourhoods and by airbnb type\n",
        "import pandas as pd\n",
        "\n",
        "result = pd.DataFrame(columns=['room_type','month','neighbourhood','count','monthly_average'])\n",
        "\n",
        "def monthly_average_by_neigh(result, df, room, month):\n",
        "  price_by_neigh_type = df[['neighbourhood', 'price']].groupby(['neighbourhood']).size().reset_index(name='count')\n",
        "  price_by_neigh_type['monthly_average'] = df['price'].groupby(df['neighbourhood']).transform('mean')\n",
        "  price_by_neigh_type.insert(0, 'month', month)\n",
        "  price_by_neigh_type.insert(0, 'room_type', room)\n",
        "  result = pd.concat([result, price_by_neigh_type])\n",
        "  print(result.shape)\n",
        "  return result\n",
        "\n",
        "def monthly_average_by_room_type(result, df, month):\n",
        "  isHotel = df['room_type'] == 'Hotel room'\n",
        "  result = monthly_average_by_neigh(result, df[isHotel],'Hotel Room', month)\n",
        "  isPrivate = df['room_type'] == 'Private room'\n",
        "  result = monthly_average_by_neigh(result, df[isPrivate],'Private Room', month)\n",
        "  isShared = df['room_type'] == 'Shared room'\n",
        "  result = monthly_average_by_neigh(result, df[isShared],'Shared Room', month)\n",
        "  isEntire = df['room_type'] == 'Entire home/apt'\n",
        "  result = monthly_average_by_neigh(result, df[isEntire], 'Entire Home', month)\n",
        "  return result\n",
        "\n",
        "df = pd.read_csv(\"listings.csv\")\n",
        "result = monthly_average_by_room_type(result, df, 'January, 2020')\n",
        "df = pd.read_csv(\"listings_feb.csv\")\n",
        "result = monthly_average_by_room_type(result, df, 'February, 2020')\n",
        "df = pd.read_csv(\"listings_mar.csv\")\n",
        "result = monthly_average_by_room_type(result, df, 'March, 2020')\n",
        "df = pd.read_csv(\"listings_apr.csv\")\n",
        "result = monthly_average_by_room_type(result, df, 'April, 2020')\n",
        "df = pd.read_csv(\"listings_may.csv\")\n",
        "result = monthly_average_by_room_type(result, df, 'May, 2020')\n",
        "df = pd.read_csv(\"listings_jun.csv\")\n",
        "result = monthly_average_by_room_type(result, df, 'June, 2020')\n",
        "df = pd.read_csv(\"listings_jul.csv\")\n",
        "result = monthly_average_by_room_type(result, df, 'July, 2020')\n",
        "df = pd.read_csv(\"listings_aug.csv\")\n",
        "result = monthly_average_by_room_type(result, df, 'August, 2020')\n",
        "df = pd.read_csv(\"listings_sep.csv\")\n",
        "result = monthly_average_by_room_type(result, df, 'September, 2020')\n",
        "df = pd.read_csv(\"listings_oct.csv\")\n",
        "result = monthly_average_by_room_type(result, df, 'October, 2020')\n",
        "df = pd.read_csv(\"listings_nov.csv\")\n",
        "result = monthly_average_by_room_type(result, df, 'November, 2020')\n",
        "df = pd.read_csv(\"listings_dec.csv\")\n",
        "result = monthly_average_by_room_type(result, df, 'December, 2020')\n",
        "df = pd.read_csv(\"listings_jan.csv\")\n",
        "result = monthly_average_by_room_type(result, df, 'January, 2021')\n",
        "df = pd.read_csv(\"feb_2021.csv\")\n",
        "result = monthly_average_by_room_type(result, df, 'February, 2021')\n",
        "df = pd.read_csv(\"mar_2021.csv\")\n",
        "result = monthly_average_by_room_type(result, df, 'March, 2021')\n",
        "df = pd.read_csv(\"apr_2021.csv\")\n",
        "result = monthly_average_by_room_type(result, df, 'April, 2021')"
      ]
    },
    {
      "cell_type": "code",
      "execution_count": null,
      "metadata": {
        "id": "IcpDRN4Y1Vem"
      },
      "outputs": [],
      "source": [
        "import pandas as pd\n",
        "\n",
        "result = pd.DataFrame(columns=['room_type','month','neighbourhood','count','monthly_average'])\n",
        "\n",
        "def monthly_average_by_neigh(result, df, room, month):\n",
        "  price_by_neigh_type = df[['neighbourhood', 'price']].groupby(['neighbourhood']).size().reset_index(name='count')\n",
        "  price_by_neigh_type['monthly_average'] = df['price'].groupby(df['neighbourhood']).transform('mean')\n",
        "  price_by_neigh_type.insert(0, 'month', month)\n",
        "  price_by_neigh_type.insert(0, 'room_type', room)\n",
        "  result = pd.concat([result, price_by_neigh_type])\n",
        "  print(result.shape)\n",
        "  return result\n",
        "\n",
        "def monthly_average_by_room_type(result, df, month):\n",
        "  isHotel = df['room_type'] == 'Hotel room'\n",
        "  result = monthly_average_by_neigh(result, df[isHotel],'Hotel Room', month)\n",
        "  isPrivate = df['room_type'] == 'Private room'\n",
        "  result = monthly_average_by_neigh(result, df[isPrivate],'Private Room', month)\n",
        "  isShared = df['room_type'] == 'Shared room'\n",
        "  result = monthly_average_by_neigh(result, df[isShared],'Shared Room', month)\n",
        "  isEntire = df['room_type'] == 'Entire home/apt'\n",
        "  result = monthly_average_by_neigh(result, df[isEntire], 'Entire Home', month)\n",
        "  return result\n",
        "\n",
        "result = pd.read_csv(\"Airbnb_monthly_avg_by_month_by_neigh.csv\")\n",
        "df = pd.read_csv(\"listings/may2021_listings.csv\")\n",
        "result = monthly_average_by_room_type(result, df, 'May, 2021')\n",
        "df = pd.read_csv(\"listings/jun2021_listings.csv\")\n",
        "result = monthly_average_by_room_type(result, df, 'June, 2021')\n",
        "df = pd.read_csv(\"listings/jul2021_listings.csv\")\n",
        "result = monthly_average_by_room_type(result, df, 'July, 2021')\n",
        "df = pd.read_csv(\"listings/aug2021_listings.csv\")\n",
        "result = monthly_average_by_room_type(result, df, 'August, 2021')"
      ]
    },
    {
      "cell_type": "code",
      "execution_count": null,
      "metadata": {
        "id": "DsShGMXPrnUn"
      },
      "outputs": [],
      "source": [
        "result.to_excel('01 - jan-aug monthly avg.xlsx')"
      ]
    },
    {
      "cell_type": "markdown",
      "metadata": {
        "id": "bdjfQ0tzk6Uk"
      },
      "source": [
        "# LinkedIn Data"
      ]
    },
    {
      "cell_type": "markdown",
      "metadata": {
        "id": "Yw1tKOO8Tx4d"
      },
      "source": [
        "Step 1. **Keeping first occurence of repeating job postings.**\n",
        "(first date, last date, and today number displayed at the bottom)"
      ]
    },
    {
      "cell_type": "code",
      "execution_count": null,
      "metadata": {
        "id": "xdk8ZXHak4zf"
      },
      "outputs": [],
      "source": [
        "import pandas as pd\n",
        "\n",
        "df3 = pd.read_csv(\"finance.csv\")\n",
        "df1 = pd.read_csv(\"food.csv\")\n",
        "df4 = pd.read_csv(\"professional.csv\")\n",
        "df2 = pd.read_csv(\"trade.csv\")\n",
        "\n",
        "#sort by date\n",
        "df1['Date'] = pd.to_datetime(df1.Date)\n",
        "df1 = df1.sort_values(by='Date')\n",
        "\n",
        "df2['Date'] = pd.to_datetime(df2.Date)\n",
        "df2 = df2.sort_values(by='Date')\n",
        "\n",
        "df3['Date'] = pd.to_datetime(df3.Date)\n",
        "df3 = df3.sort_values(by='Date')\n",
        "\n",
        "df4['Date'] = pd.to_datetime(df4.Date)\n",
        "df4 = df4.sort_values(by='Date')\n",
        "\n",
        "#drop duplicates. keeping the first appearance\n",
        "df1 = df1.drop_duplicates()\n",
        "df2 = df2.drop_duplicates()\n",
        "df3 = df3.drop_duplicates()\n",
        "df4 = df4.drop_duplicates()\n",
        "\n",
        "frames = [df1, df2, df3, df4]\n",
        "result = pd.concat(frames)\n",
        "\n",
        "# Keeping dates starting from November 1st.\n",
        "result = result[(result['Date'] > '2020-10-31')]\n",
        "result = result.sort_values(by='Date')\n",
        "\n",
        "#display results\n",
        "print(\"Start date of data collection:\")\n",
        "print(result.Date.head(1))\n",
        "print(\"Last date of data collection:\")\n",
        "print(result.Date.tail(1))\n",
        "print(\"Size of data:\")\n",
        "print(result.shape)"
      ]
    },
    {
      "cell_type": "markdown",
      "metadata": {
        "id": "rjjQVhrD3hG_"
      },
      "source": [
        "MANUAL CLEANING STARTS HERE"
      ]
    },
    {
      "cell_type": "code",
      "execution_count": null,
      "metadata": {
        "id": "y5hupyStR_XR"
      },
      "outputs": [],
      "source": [
        "######################################\n",
        "########## STEP 1. FEED IN COMBINED DATA FROM PREVIOUS MONTH\n",
        "import pandas as pd\n",
        "\n",
        "result = pd.read_csv(\"COMBINED_NOV_2_APR.csv\")\n",
        "result['Date'] = pd.to_datetime(result.Date)"
      ]
    },
    {
      "cell_type": "code",
      "execution_count": null,
      "metadata": {
        "id": "TxYic5-CkKPO"
      },
      "outputs": [],
      "source": [
        "######################################\n",
        "########## STEP 2. FEED IN NEWLY COLLECTED DATA\n",
        "\n",
        "import pandas as pd\n",
        "\n",
        "df3 = pd.read_csv(\"finance.csv\")\n",
        "df1 = pd.read_csv(\"food.csv\")\n",
        "df4 = pd.read_csv(\"professional.csv\")\n",
        "df2 = pd.read_csv(\"trade.csv\")\n",
        "\n",
        "#sort by date\n",
        "df1['Date'] = pd.to_datetime(df1.Date)\n",
        "df1 = df1.sort_values(by='Date')\n",
        "\n",
        "df2['Date'] = pd.to_datetime(df2.Date)\n",
        "df2 = df2.sort_values(by='Date')\n",
        "\n",
        "df3['Date'] = pd.to_datetime(df3.Date)\n",
        "df3 = df3.sort_values(by='Date')\n",
        "\n",
        "df4['Date'] = pd.to_datetime(df4.Date)\n",
        "df4 = df4.sort_values(by='Date')\n",
        "\n",
        "#drop duplicates. keeping the first appearance\n",
        "df1 = df1.drop_duplicates()\n",
        "df2 = df2.drop_duplicates()\n",
        "df3 = df3.drop_duplicates()\n",
        "df4 = df4.drop_duplicates()\n",
        "\n",
        "frames = [result, df1, df2, df3, df4]\n",
        "result2 = pd.concat(frames)\n",
        "\n",
        "# Keeping dates starting from November 1st.\n",
        "result2 = result2[(result2['Date'] > '2020-10-31')]\n",
        "result2 = result2.sort_values(by='Date')\n",
        "\n",
        "#display results\n",
        "print(\"Start date of data collection:\")\n",
        "print(result2.Date.head(1))\n",
        "print(\"Last date of data collection:\")\n",
        "print(result2.Date.tail(1))\n",
        "print(\"Size of data:\")\n",
        "print(result2.shape)"
      ]
    },
    {
      "cell_type": "markdown",
      "metadata": {
        "id": "GcXJUUvpVxBy"
      },
      "source": [
        "Step 2. **Look for duplicates among 4 industries.**"
      ]
    },
    {
      "cell_type": "code",
      "execution_count": null,
      "metadata": {
        "id": "1b8H3KByokeR"
      },
      "outputs": [],
      "source": [
        "######################################\n",
        "########## STEP 3. REMOVE DUPLICATES\n",
        "\n",
        "print(result2.shape)\n",
        "\n",
        "#filter out jobs with no links\n",
        "notNaN = result2['Link'] == result2['Link']\n",
        "result2 = result2[notNaN]\n",
        "\n",
        "print(result2.shape)\n",
        "\n",
        "#filter by unique entries(keep first occurence. Food -> Retail -> Finance -> Professional)\n",
        "result2 = result2.drop_duplicates()\n",
        "print(result2.shape)"
      ]
    },
    {
      "cell_type": "code",
      "execution_count": null,
      "metadata": {
        "id": "NaMbcQ13re6R"
      },
      "outputs": [],
      "source": [
        "######################################\n",
        "########## STEP 4. SAVE, DOWNLOAD, AND RENAME FOLLOWING THE NAMING CONVENTION\n",
        "result2.to_csv('Linkedin_' + str(result2.Date.tail(1)) + '.csv', index = False)"
      ]
    },
    {
      "cell_type": "markdown",
      "metadata": {
        "id": "Ye-ukz1FkezS"
      },
      "source": [
        "# YELP DATA"
      ]
    },
    {
      "cell_type": "code",
      "execution_count": null,
      "metadata": {
        "id": "VUveEpetQfot"
      },
      "outputs": [],
      "source": [
        "import pandas as pd\n",
        "\n",
        "df = pd.read_excel(\"TO_rest_May2Nov_cleaned.xlsx\")\n",
        "print(df.shape)\n",
        "\n",
        "duplicateRowsDF = df[df.duplicated()]\n",
        "print(duplicateRowsDF.shape) #no duplicates"
      ]
    },
    {
      "cell_type": "markdown",
      "metadata": {
        "id": "ZZEgPqG0c-Jt"
      },
      "source": [
        "## DUPLICATE PHONE NUMBERS"
      ]
    },
    {
      "cell_type": "code",
      "execution_count": null,
      "metadata": {
        "id": "Dk9sxs_-XRam"
      },
      "outputs": [],
      "source": [
        "duplicateRowsDF = df[df.duplicated(['phone_x'])]\n",
        "\n",
        "notNaN = duplicateRowsDF['phone_x'] == duplicateRowsDF['phone_x']\n",
        "dfNumnotNaN = duplicateRowsDF[notNaN]\n",
        "\n",
        "pd.concat(g for _, g in dfNumnotNaN.groupby(\"phone_x\") if len(g) > 1)"
      ]
    },
    {
      "cell_type": "markdown",
      "metadata": {
        "id": "tBUY9-LydKFY"
      },
      "source": [
        "## 9 RESTAURANTS WHO SHARE SAME NUMBER AND ADDRESS"
      ]
    },
    {
      "cell_type": "code",
      "execution_count": null,
      "metadata": {
        "id": "CVS-IRNBZDJa"
      },
      "outputs": [],
      "source": [
        "try_address = pd.concat(g for _, g in dfNumnotNaN.groupby(\"phone_x\") if len(g) > 1)\n",
        "duplicateRowsDF = try_address[try_address.duplicated(['location.address1_x'])]\n",
        "\n",
        "pd.concat(g for _, g in dfNumnotNaN.groupby(\"location.address1_x\") if len(g) > 1)"
      ]
    },
    {
      "cell_type": "code",
      "execution_count": null,
      "metadata": {
        "id": "19hvuh8GaClu"
      },
      "outputs": [],
      "source": [
        "print(duplicateRowsDF.shape)"
      ]
    }
  ],
  "metadata": {
    "colab": {
      "collapsed_sections": [],
      "name": "Copy of Data_Cleaning_TorontoAfterTheFirstWave",
      "provenance": []
    },
    "interpreter": {
      "hash": "4f946df053fbf2b937619d3c5458e7af74262f9a954d8797ba0b27400bcafe06"
    },
    "kernelspec": {
      "display_name": "Python 3.8.6 64-bit",
      "name": "python3"
    },
    "language_info": {
      "codemirror_mode": {
        "name": "ipython",
        "version": 3
      },
      "file_extension": ".py",
      "mimetype": "text/x-python",
      "name": "python",
      "nbconvert_exporter": "python",
      "pygments_lexer": "ipython3",
      "version": "3.8.6"
    }
  },
  "nbformat": 4,
  "nbformat_minor": 2
}
